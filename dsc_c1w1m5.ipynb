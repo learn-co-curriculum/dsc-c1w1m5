{
  "nbformat": 4,
  "nbformat_minor": 0,
  "metadata": {
    "colab": {
      "provenance": []
    },
    "kernelspec": {
      "name": "python3",
      "display_name": "Python 3"
    },
    "language_info": {
      "name": "python"
    }
  },
  "cells": [
    {
      "cell_type": "markdown",
      "source": [
        "# Practice SQL Database types\n",
        "\n",
        "Fill out the code, as necessary, below based on the directions in Canvas."
      ],
      "metadata": {
        "id": "ir03DMw4V3br"
      }
    },
    {
      "cell_type": "code",
      "source": [],
      "metadata": {
        "id": "ggEPd8LFXF8r"
      },
      "execution_count": null,
      "outputs": []
    }
  ]
}